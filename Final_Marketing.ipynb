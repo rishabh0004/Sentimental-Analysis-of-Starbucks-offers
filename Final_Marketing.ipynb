{
 "cells": [
  {
   "cell_type": "markdown",
   "id": "d44e88be",
   "metadata": {},
   "source": [
    "# Individual Project - Marketing Analytics\n",
    "## Sentimental Analysis on Offers in Coffee shop\n",
    "##### Name - Rishabh Patil\n",
    "##### Student Id - 0770055"
   ]
  },
  {
   "cell_type": "code",
   "execution_count": 6,
   "id": "063cf6f7-50af-4a2a-bfaa-44bcd13175ef",
   "metadata": {},
   "outputs": [],
   "source": [
    "import re\n",
    "import math\n",
    "import json\n",
    "import progressbar\n",
    "import pandas as pd\n",
    "import numpy as np\n",
    "import seaborn as sns\n",
    "\n",
    "from matplotlib import pyplot as plt\n",
    "from sklearn.ensemble import GradientBoostingClassifier, RandomForestClassifier\n",
    "from sklearn.linear_model import LogisticRegression\n",
    "from sklearn.model_selection import train_test_split\n",
    "from sklearn.metrics import accuracy_score, f1_score\n",
    "from sklearn.metrics import fbeta_score, make_scorer\n",
    "from sklearn.model_selection import GridSearchCV, RandomizedSearchCV\n",
    "\n",
    "%matplotlib inline"
   ]
  },
  {
   "cell_type": "code",
   "execution_count": 7,
   "id": "a23a377d-6bd9-4644-b654-549287a5eb5c",
   "metadata": {},
   "outputs": [],
   "source": [
    "moa = pd.read_csv('master_offer_analysis.csv')"
   ]
  },
  {
   "cell_type": "code",
   "execution_count": 8,
   "id": "81a8bdcd-97c6-4719-aa3e-c2f6ce4a6863",
   "metadata": {},
   "outputs": [
    {
     "data": {
      "text/plain": [
       "(66501, 21)"
      ]
     },
     "execution_count": 8,
     "metadata": {},
     "output_type": "execute_result"
    }
   ],
   "source": [
    "moa.shape"
   ]
  },
  {
   "cell_type": "code",
   "execution_count": 9,
   "id": "2b5beb6a-b031-4e20-89c6-4dbed5e6642e",
   "metadata": {},
   "outputs": [
    {
     "data": {
      "text/html": [
       "<div>\n",
       "<style scoped>\n",
       "    .dataframe tbody tr th:only-of-type {\n",
       "        vertical-align: middle;\n",
       "    }\n",
       "\n",
       "    .dataframe tbody tr th {\n",
       "        vertical-align: top;\n",
       "    }\n",
       "\n",
       "    .dataframe thead th {\n",
       "        text-align: right;\n",
       "    }\n",
       "</style>\n",
       "<table border=\"1\" class=\"dataframe\">\n",
       "  <thead>\n",
       "    <tr style=\"text-align: right;\">\n",
       "      <th></th>\n",
       "      <th>age</th>\n",
       "      <th>became_member_on</th>\n",
       "      <th>bogo</th>\n",
       "      <th>customer_id</th>\n",
       "      <th>difficulty</th>\n",
       "      <th>discount</th>\n",
       "      <th>duration</th>\n",
       "      <th>email</th>\n",
       "      <th>gender</th>\n",
       "      <th>income</th>\n",
       "      <th>...</th>\n",
       "      <th>mobile</th>\n",
       "      <th>offer_id</th>\n",
       "      <th>offer_successful</th>\n",
       "      <th>reward</th>\n",
       "      <th>social</th>\n",
       "      <th>start_month</th>\n",
       "      <th>start_year</th>\n",
       "      <th>time</th>\n",
       "      <th>total_amount</th>\n",
       "      <th>web</th>\n",
       "    </tr>\n",
       "  </thead>\n",
       "  <tbody>\n",
       "    <tr>\n",
       "      <th>0</th>\n",
       "      <td>75.0</td>\n",
       "      <td>2017-05-09</td>\n",
       "      <td>1.0</td>\n",
       "      <td>78afa995795e4d85b5d9ceeca43f5fef</td>\n",
       "      <td>5</td>\n",
       "      <td>0.0</td>\n",
       "      <td>7</td>\n",
       "      <td>1.0</td>\n",
       "      <td>0</td>\n",
       "      <td>100000.0</td>\n",
       "      <td>...</td>\n",
       "      <td>1.0</td>\n",
       "      <td>9b98b8c7a33c4b65b9aebfe6a799e6d9</td>\n",
       "      <td>1</td>\n",
       "      <td>5</td>\n",
       "      <td>0.0</td>\n",
       "      <td>5</td>\n",
       "      <td>2017</td>\n",
       "      <td>0.0</td>\n",
       "      <td>37.67</td>\n",
       "      <td>1.0</td>\n",
       "    </tr>\n",
       "    <tr>\n",
       "      <th>1</th>\n",
       "      <td>75.0</td>\n",
       "      <td>2017-05-09</td>\n",
       "      <td>0.0</td>\n",
       "      <td>78afa995795e4d85b5d9ceeca43f5fef</td>\n",
       "      <td>0</td>\n",
       "      <td>0.0</td>\n",
       "      <td>3</td>\n",
       "      <td>1.0</td>\n",
       "      <td>0</td>\n",
       "      <td>100000.0</td>\n",
       "      <td>...</td>\n",
       "      <td>1.0</td>\n",
       "      <td>5a8bc65990b245e5a138643cd4eb9837</td>\n",
       "      <td>0</td>\n",
       "      <td>0</td>\n",
       "      <td>1.0</td>\n",
       "      <td>5</td>\n",
       "      <td>2017</td>\n",
       "      <td>7.0</td>\n",
       "      <td>49.39</td>\n",
       "      <td>0.0</td>\n",
       "    </tr>\n",
       "    <tr>\n",
       "      <th>2</th>\n",
       "      <td>75.0</td>\n",
       "      <td>2017-05-09</td>\n",
       "      <td>1.0</td>\n",
       "      <td>78afa995795e4d85b5d9ceeca43f5fef</td>\n",
       "      <td>10</td>\n",
       "      <td>0.0</td>\n",
       "      <td>7</td>\n",
       "      <td>1.0</td>\n",
       "      <td>0</td>\n",
       "      <td>100000.0</td>\n",
       "      <td>...</td>\n",
       "      <td>1.0</td>\n",
       "      <td>ae264e3637204a6fb9bb56bc8210ddfd</td>\n",
       "      <td>1</td>\n",
       "      <td>10</td>\n",
       "      <td>1.0</td>\n",
       "      <td>5</td>\n",
       "      <td>2017</td>\n",
       "      <td>17.0</td>\n",
       "      <td>48.28</td>\n",
       "      <td>0.0</td>\n",
       "    </tr>\n",
       "    <tr>\n",
       "      <th>3</th>\n",
       "      <td>75.0</td>\n",
       "      <td>2017-05-09</td>\n",
       "      <td>1.0</td>\n",
       "      <td>78afa995795e4d85b5d9ceeca43f5fef</td>\n",
       "      <td>5</td>\n",
       "      <td>0.0</td>\n",
       "      <td>5</td>\n",
       "      <td>1.0</td>\n",
       "      <td>0</td>\n",
       "      <td>100000.0</td>\n",
       "      <td>...</td>\n",
       "      <td>1.0</td>\n",
       "      <td>f19421c1d4aa40978ebb69ca19b0e20d</td>\n",
       "      <td>1</td>\n",
       "      <td>5</td>\n",
       "      <td>1.0</td>\n",
       "      <td>5</td>\n",
       "      <td>2017</td>\n",
       "      <td>21.0</td>\n",
       "      <td>48.28</td>\n",
       "      <td>1.0</td>\n",
       "    </tr>\n",
       "    <tr>\n",
       "      <th>4</th>\n",
       "      <td>68.0</td>\n",
       "      <td>2018-04-26</td>\n",
       "      <td>0.0</td>\n",
       "      <td>e2127556f4f64592b11af22de27a7932</td>\n",
       "      <td>10</td>\n",
       "      <td>1.0</td>\n",
       "      <td>7</td>\n",
       "      <td>1.0</td>\n",
       "      <td>1</td>\n",
       "      <td>70000.0</td>\n",
       "      <td>...</td>\n",
       "      <td>1.0</td>\n",
       "      <td>2906b810c7d4411798c6938adc9daaa5</td>\n",
       "      <td>0</td>\n",
       "      <td>2</td>\n",
       "      <td>0.0</td>\n",
       "      <td>4</td>\n",
       "      <td>2018</td>\n",
       "      <td>0.0</td>\n",
       "      <td>0.00</td>\n",
       "      <td>1.0</td>\n",
       "    </tr>\n",
       "  </tbody>\n",
       "</table>\n",
       "<p>5 rows × 21 columns</p>\n",
       "</div>"
      ],
      "text/plain": [
       "    age became_member_on  bogo                       customer_id  difficulty  \\\n",
       "0  75.0       2017-05-09   1.0  78afa995795e4d85b5d9ceeca43f5fef           5   \n",
       "1  75.0       2017-05-09   0.0  78afa995795e4d85b5d9ceeca43f5fef           0   \n",
       "2  75.0       2017-05-09   1.0  78afa995795e4d85b5d9ceeca43f5fef          10   \n",
       "3  75.0       2017-05-09   1.0  78afa995795e4d85b5d9ceeca43f5fef           5   \n",
       "4  68.0       2018-04-26   0.0  e2127556f4f64592b11af22de27a7932          10   \n",
       "\n",
       "   discount  duration  email  gender    income  ...  mobile  \\\n",
       "0       0.0         7    1.0       0  100000.0  ...     1.0   \n",
       "1       0.0         3    1.0       0  100000.0  ...     1.0   \n",
       "2       0.0         7    1.0       0  100000.0  ...     1.0   \n",
       "3       0.0         5    1.0       0  100000.0  ...     1.0   \n",
       "4       1.0         7    1.0       1   70000.0  ...     1.0   \n",
       "\n",
       "                           offer_id offer_successful  reward  social  \\\n",
       "0  9b98b8c7a33c4b65b9aebfe6a799e6d9                1       5     0.0   \n",
       "1  5a8bc65990b245e5a138643cd4eb9837                0       0     1.0   \n",
       "2  ae264e3637204a6fb9bb56bc8210ddfd                1      10     1.0   \n",
       "3  f19421c1d4aa40978ebb69ca19b0e20d                1       5     1.0   \n",
       "4  2906b810c7d4411798c6938adc9daaa5                0       2     0.0   \n",
       "\n",
       "   start_month  start_year  time  total_amount  web  \n",
       "0            5        2017   0.0         37.67  1.0  \n",
       "1            5        2017   7.0         49.39  0.0  \n",
       "2            5        2017  17.0         48.28  0.0  \n",
       "3            5        2017  21.0         48.28  1.0  \n",
       "4            4        2018   0.0          0.00  1.0  \n",
       "\n",
       "[5 rows x 21 columns]"
      ]
     },
     "execution_count": 9,
     "metadata": {},
     "output_type": "execute_result"
    }
   ],
   "source": [
    "moa.head()"
   ]
  },
  {
   "cell_type": "code",
   "execution_count": 10,
   "id": "a6e0a4c0-b8d2-483c-a2d0-b6d0a465b96e",
   "metadata": {},
   "outputs": [
    {
     "name": "stdout",
     "output_type": "stream",
     "text": [
      "<class 'pandas.core.frame.DataFrame'>\n",
      "RangeIndex: 66501 entries, 0 to 66500\n",
      "Data columns (total 21 columns):\n",
      " #   Column            Non-Null Count  Dtype  \n",
      "---  ------            --------------  -----  \n",
      " 0   age               66501 non-null  float64\n",
      " 1   became_member_on  66501 non-null  object \n",
      " 2   bogo              66501 non-null  float64\n",
      " 3   customer_id       66501 non-null  object \n",
      " 4   difficulty        66501 non-null  int64  \n",
      " 5   discount          66501 non-null  float64\n",
      " 6   duration          66501 non-null  int64  \n",
      " 7   email             66501 non-null  float64\n",
      " 8   gender            66501 non-null  int64  \n",
      " 9   income            66501 non-null  float64\n",
      " 10  informational     66501 non-null  float64\n",
      " 11  mobile            66501 non-null  float64\n",
      " 12  offer_id          66501 non-null  object \n",
      " 13  offer_successful  66501 non-null  int64  \n",
      " 14  reward            66501 non-null  int64  \n",
      " 15  social            66501 non-null  float64\n",
      " 16  start_month       66501 non-null  int64  \n",
      " 17  start_year        66501 non-null  int64  \n",
      " 18  time              66501 non-null  float64\n",
      " 19  total_amount      66501 non-null  float64\n",
      " 20  web               66501 non-null  float64\n",
      "dtypes: float64(11), int64(7), object(3)\n",
      "memory usage: 10.7+ MB\n"
     ]
    }
   ],
   "source": [
    "moa.info()"
   ]
  },
  {
   "cell_type": "markdown",
   "id": "596bb86a",
   "metadata": {},
   "source": [
    "### Exploratory Data Analysis"
   ]
  },
  {
   "cell_type": "code",
   "execution_count": 14,
   "id": "de402174-6c49-44e4-bc87-fe4e196a6740",
   "metadata": {},
   "outputs": [
    {
     "data": {
      "text/plain": [
       "([<matplotlib.patches.Wedge at 0x1d85cc2e130>,\n",
       "  <matplotlib.patches.Wedge at 0x1d85cc2e970>],\n",
       " [Text(-0.34305042823271714, 1.0451394183023381, '0'),\n",
       "  Text(0.34305033037970095, -1.0451394504210325, '1')],\n",
       " [Text(-0.1871184153996639, 0.5700760463467298, '60.10%'),\n",
       "  Text(0.1871183620252914, -0.5700760638660177, '39.90%')])"
      ]
     },
     "execution_count": 14,
     "metadata": {},
     "output_type": "execute_result"
    },
    {
     "data": {
      "image/png": "[encoded data removed]",
      "text/plain": [
       "<Figure size 432x432 with 1 Axes>"
      ]
     },
     "metadata": {},
     "output_type": "display_data"
    }
   ],
   "source": [
    "import matplotlib.pyplot as plt\n",
    "labels = ['0','1']\n",
    "plt.figure(figsize=(6, 6))\n",
    "plt.title(\"By one get One Free\", fontdict=None, loc='center', pad=None)\n",
    "plt.pie(moa.groupby('bogo')['customer_id'].count(), autopct='%1.2f%%',labels= labels)"
   ]
  },
  {
   "cell_type": "code",
   "execution_count": 13,
   "id": "8ce33551-c195-469e-b1da-acfce11c103a",
   "metadata": {},
   "outputs": [
    {
     "data": {
      "text/plain": [
       "([<matplotlib.patches.Wedge at 0x1d85cbd6700>,\n",
       "  <matplotlib.patches.Wedge at 0x1d85cbd6f40>],\n",
       " [Text(-0.3367738706146124, 1.0471787622327204, '0'),\n",
       "  Text(0.3367737725706592, -1.0471787937637613, '1')],\n",
       " [Text(-0.18369483851706128, 0.571188415763302, '59.90%'),\n",
       "  Text(0.1836947850385414, -0.5711884329620516, '40.10%')])"
      ]
     },
     "execution_count": 13,
     "metadata": {},
     "output_type": "execute_result"
    },
    {
     "data": {
      "image/png": "[encoded data removed]",
      "text/plain": [
       "<Figure size 432x432 with 1 Axes>"
      ]
     },
     "metadata": {},
     "output_type": "display_data"
    }
   ],
   "source": [
    "labels = ['0','1']\n",
    "plt.figure(figsize=(6, 6))\n",
    "plt.title(\"Discount\", fontdict=None, loc='center', pad=None)\n",
    "plt.pie(moa.groupby('discount')['customer_id'].count(), autopct='%1.2f%%',labels= labels)"
   ]
  },
  {
   "cell_type": "code",
   "execution_count": 17,
   "id": "8c5f76ca",
   "metadata": {},
   "outputs": [
    {
     "data": {
      "text/plain": [
       "([<matplotlib.patches.Wedge at 0x1d85cd26eb0>,\n",
       "  <matplotlib.patches.Wedge at 0x1d85cd34670>,\n",
       "  <matplotlib.patches.Wedge at 0x1d85cd34d90>,\n",
       "  <matplotlib.patches.Wedge at 0x1d85cd3e4f0>,\n",
       "  <matplotlib.patches.Wedge at 0x1d85cd3ec10>],\n",
       " [Text(0.8899248018218077, 0.6465553704845521, 'CAD 0'),\n",
       "  Text(-0.339048771747858, 1.0464444229753767, 'CAD 2'),\n",
       "  Text(-1.04568099566966, 0.34139603878092756, 'CAD 3'),\n",
       "  Text(-0.6460718063089925, -0.8902759241339934, 'CAD 5'),\n",
       "  Text(0.8906572768525199, -0.6455459822426701, 'CAD 10')],\n",
       " [Text(0.48541352826644046, 0.3526665657188466, '20.00%'),\n",
       "  Text(-0.1849356936806498, 0.5707878670774781, '19.97%'),\n",
       "  Text(-0.5703714521834509, 0.1862160211532332, '10.01%'),\n",
       "  Text(-0.3524028034412686, -0.48560504952763267, '30.06%'),\n",
       "  Text(0.4858130601013745, -0.35211599031418367, '19.96%')])"
      ]
     },
     "execution_count": 17,
     "metadata": {},
     "output_type": "execute_result"
    },
    {
     "data": {
      "image/png": "[encoded data removed]",
      "text/plain": [
       "<Figure size 432x432 with 1 Axes>"
      ]
     },
     "metadata": {},
     "output_type": "display_data"
    }
   ],
   "source": [
    "labels = ['CAD 0','CAD 2','CAD 3','CAD 5','CAD 10']\n",
    "plt.figure(figsize=(6, 6))\n",
    "plt.title(\"Rewards\", fontdict=None, loc='center', pad=None)\n",
    "plt.pie(moa.groupby('reward')['customer_id'].count(), autopct='%1.2f%%',labels= labels)"
   ]
  },
  {
   "cell_type": "code",
   "execution_count": 18,
   "id": "0684a961",
   "metadata": {},
   "outputs": [
    {
     "data": {
      "text/plain": [
       "([<matplotlib.patches.Wedge at 0x1d85cd86970>,\n",
       "  <matplotlib.patches.Wedge at 0x1d85cd961f0>],\n",
       " [Text(-0.0978513372843247, 1.0956391357521278, '0'),\n",
       "  Text(0.09785143986546375, -1.0956391265906196, '1')],\n",
       " [Text(-0.053373456700540736, 0.5976213467738879, '52.84%'),\n",
       "  Text(0.053373512653889316, -0.5976213417767016, '47.16%')])"
      ]
     },
     "execution_count": 18,
     "metadata": {},
     "output_type": "execute_result"
    },
    {
     "data": {
      "image/png": "[encoded data removed]",
      "text/plain": [
       "<Figure size 432x432 with 1 Axes>"
      ]
     },
     "metadata": {},
     "output_type": "display_data"
    }
   ],
   "source": [
    "labels = ['0','1']\n",
    "plt.figure(figsize=(6, 6))\n",
    "plt.title(\"Total claim of offers\", fontdict=None, loc='center', pad=None)\n",
    "plt.pie(moa.groupby('offer_successful')['customer_id'].count(), autopct='%1.2f%%',labels= labels)"
   ]
  },
  {
   "cell_type": "code",
   "execution_count": 19,
   "id": "90521c9e",
   "metadata": {},
   "outputs": [
    {
     "data": {
      "text/plain": [
       "Text(0, 0.5, 'Count of Cutomers')"
      ]
     },
     "execution_count": 19,
     "metadata": {},
     "output_type": "execute_result"
    },
    {
     "data": {
      "image/png": "[encoded data removed]",
      "text/plain": [
       "<Figure size 720x432 with 1 Axes>"
      ]
     },
     "metadata": {
      "needs_background": "light"
     },
     "output_type": "display_data"
    }
   ],
   "source": [
    "m_date = moa.groupby(['start_year', 'gender']).size()\n",
    "m_date = m_date.reset_index()\n",
    "m_date.columns = ['start_year', 'gender', 'count']\n",
    "plt.figure(figsize=(10, 6))\n",
    "plt.title(\"Gender wise Membership in various years\", fontdict=None, loc='center', pad=None)\n",
    "sns.lineplot(x='start_year', y='count', hue='gender', data=m_date)\n",
    "plt.xlabel('Start Year of Membership')\n",
    "plt.ylabel('Count of Cutomers')"
   ]
  },
  {
   "cell_type": "markdown",
   "id": "430d7b7a",
   "metadata": {},
   "source": [
    "### Process on data"
   ]
  },
  {
   "cell_type": "code",
   "execution_count": 21,
   "id": "9bc84897",
   "metadata": {},
   "outputs": [
    {
     "data": {
      "text/html": [
       "<div>\n",
       "<style scoped>\n",
       "    .dataframe tbody tr th:only-of-type {\n",
       "        vertical-align: middle;\n",
       "    }\n",
       "\n",
       "    .dataframe tbody tr th {\n",
       "        vertical-align: top;\n",
       "    }\n",
       "\n",
       "    .dataframe thead th {\n",
       "        text-align: right;\n",
       "    }\n",
       "</style>\n",
       "<table border=\"1\" class=\"dataframe\">\n",
       "  <thead>\n",
       "    <tr style=\"text-align: right;\">\n",
       "      <th></th>\n",
       "      <th>offer_id</th>\n",
       "      <th>total_amount</th>\n",
       "      <th>age</th>\n",
       "      <th>bogo</th>\n",
       "      <th>difficulty</th>\n",
       "      <th>discount</th>\n",
       "      <th>duration</th>\n",
       "      <th>gender</th>\n",
       "      <th>income</th>\n",
       "      <th>mobile</th>\n",
       "      <th>offer_successful</th>\n",
       "      <th>reward</th>\n",
       "      <th>social</th>\n",
       "      <th>start_month</th>\n",
       "      <th>start_year</th>\n",
       "      <th>web</th>\n",
       "    </tr>\n",
       "  </thead>\n",
       "  <tbody>\n",
       "    <tr>\n",
       "      <th>0</th>\n",
       "      <td>9b98b8c7a33c4b65b9aebfe6a799e6d9</td>\n",
       "      <td>37.67</td>\n",
       "      <td>75.0</td>\n",
       "      <td>1.0</td>\n",
       "      <td>5</td>\n",
       "      <td>0.0</td>\n",
       "      <td>7</td>\n",
       "      <td>0</td>\n",
       "      <td>100000.0</td>\n",
       "      <td>1.0</td>\n",
       "      <td>1</td>\n",
       "      <td>5</td>\n",
       "      <td>0.0</td>\n",
       "      <td>5</td>\n",
       "      <td>2017</td>\n",
       "      <td>1.0</td>\n",
       "    </tr>\n",
       "    <tr>\n",
       "      <th>1</th>\n",
       "      <td>5a8bc65990b245e5a138643cd4eb9837</td>\n",
       "      <td>49.39</td>\n",
       "      <td>75.0</td>\n",
       "      <td>0.0</td>\n",
       "      <td>0</td>\n",
       "      <td>0.0</td>\n",
       "      <td>3</td>\n",
       "      <td>0</td>\n",
       "      <td>100000.0</td>\n",
       "      <td>1.0</td>\n",
       "      <td>0</td>\n",
       "      <td>0</td>\n",
       "      <td>1.0</td>\n",
       "      <td>5</td>\n",
       "      <td>2017</td>\n",
       "      <td>0.0</td>\n",
       "    </tr>\n",
       "    <tr>\n",
       "      <th>2</th>\n",
       "      <td>ae264e3637204a6fb9bb56bc8210ddfd</td>\n",
       "      <td>48.28</td>\n",
       "      <td>75.0</td>\n",
       "      <td>1.0</td>\n",
       "      <td>10</td>\n",
       "      <td>0.0</td>\n",
       "      <td>7</td>\n",
       "      <td>0</td>\n",
       "      <td>100000.0</td>\n",
       "      <td>1.0</td>\n",
       "      <td>1</td>\n",
       "      <td>10</td>\n",
       "      <td>1.0</td>\n",
       "      <td>5</td>\n",
       "      <td>2017</td>\n",
       "      <td>0.0</td>\n",
       "    </tr>\n",
       "    <tr>\n",
       "      <th>3</th>\n",
       "      <td>f19421c1d4aa40978ebb69ca19b0e20d</td>\n",
       "      <td>48.28</td>\n",
       "      <td>75.0</td>\n",
       "      <td>1.0</td>\n",
       "      <td>5</td>\n",
       "      <td>0.0</td>\n",
       "      <td>5</td>\n",
       "      <td>0</td>\n",
       "      <td>100000.0</td>\n",
       "      <td>1.0</td>\n",
       "      <td>1</td>\n",
       "      <td>5</td>\n",
       "      <td>1.0</td>\n",
       "      <td>5</td>\n",
       "      <td>2017</td>\n",
       "      <td>1.0</td>\n",
       "    </tr>\n",
       "    <tr>\n",
       "      <th>4</th>\n",
       "      <td>2906b810c7d4411798c6938adc9daaa5</td>\n",
       "      <td>0.00</td>\n",
       "      <td>68.0</td>\n",
       "      <td>0.0</td>\n",
       "      <td>10</td>\n",
       "      <td>1.0</td>\n",
       "      <td>7</td>\n",
       "      <td>1</td>\n",
       "      <td>70000.0</td>\n",
       "      <td>1.0</td>\n",
       "      <td>0</td>\n",
       "      <td>2</td>\n",
       "      <td>0.0</td>\n",
       "      <td>4</td>\n",
       "      <td>2018</td>\n",
       "      <td>1.0</td>\n",
       "    </tr>\n",
       "  </tbody>\n",
       "</table>\n",
       "</div>"
      ],
      "text/plain": [
       "                           offer_id  total_amount   age  bogo  difficulty  \\\n",
       "0  9b98b8c7a33c4b65b9aebfe6a799e6d9         37.67  75.0   1.0           5   \n",
       "1  5a8bc65990b245e5a138643cd4eb9837         49.39  75.0   0.0           0   \n",
       "2  ae264e3637204a6fb9bb56bc8210ddfd         48.28  75.0   1.0          10   \n",
       "3  f19421c1d4aa40978ebb69ca19b0e20d         48.28  75.0   1.0           5   \n",
       "4  2906b810c7d4411798c6938adc9daaa5          0.00  68.0   0.0          10   \n",
       "\n",
       "   discount  duration  gender    income  mobile  offer_successful  reward  \\\n",
       "0       0.0         7       0  100000.0     1.0                 1       5   \n",
       "1       0.0         3       0  100000.0     1.0                 0       0   \n",
       "2       0.0         7       0  100000.0     1.0                 1      10   \n",
       "3       0.0         5       0  100000.0     1.0                 1       5   \n",
       "4       1.0         7       1   70000.0     1.0                 0       2   \n",
       "\n",
       "   social  start_month  start_year  web  \n",
       "0     0.0            5        2017  1.0  \n",
       "1     1.0            5        2017  0.0  \n",
       "2     1.0            5        2017  0.0  \n",
       "3     1.0            5        2017  1.0  \n",
       "4     0.0            4        2018  1.0  "
      ]
     },
     "execution_count": 21,
     "metadata": {},
     "output_type": "execute_result"
    }
   ],
   "source": [
    "order = ['offer_id', 'total_amount']\n",
    "order.extend([elem for elem in moa.columns if elem not in order])\n",
    "\n",
    "moa = moa[order]\n",
    "moa = moa.drop(columns=['time', 'customer_id', 'email', 'informational', 'became_member_on'])\n",
    "moa.head()"
   ]
  },
  {
   "cell_type": "code",
   "execution_count": 22,
   "id": "7eb892c8",
   "metadata": {},
   "outputs": [],
   "source": [
    "portfolio = pd.read_json('data/portfolio.json', orient='records', lines=True)\n",
    "portfolio.rename(columns={'id': 'offer_id'}, inplace=True)\n",
    "for index, row in portfolio.iterrows():\n",
    "    for channel in ['web', 'email', 'social', 'mobile']:\n",
    "        if channel in portfolio.loc[index, 'channels']:\n",
    "            portfolio.loc[index, channel] = 1\n",
    "        else:\n",
    "            portfolio.loc[index, channel] = 0\n",
    "portfolio.drop(columns='channels', inplace=True)\n",
    "for index, row in portfolio.iterrows():\n",
    "    for offertype in ['bogo', 'informational', 'discount']:\n",
    "        if offertype in portfolio.loc[index, 'offer_type']:\n",
    "            portfolio.loc[index, offertype] = 1\n",
    "        else:\n",
    "            portfolio.loc[index, offertype] = 0\n",
    "portfolio.drop(columns='offer_type', inplace=True)"
   ]
  },
  {
   "cell_type": "code",
   "execution_count": 23,
   "id": "deadfef2",
   "metadata": {},
   "outputs": [],
   "source": [
    "def calculate_percentage_success():\n",
    "    successful_count = moa[['offer_id', 'offer_successful']].groupby(\n",
    "        'offer_id').sum().reset_index()\n",
    "\n",
    "    offer_count = moa['offer_id'].value_counts()\n",
    "\n",
    "    offer_count = pd.DataFrame(list(zip(offer_count.index.values,\n",
    "                                        offer_count.values)),\n",
    "                               columns=['offer_id', 'count'])\n",
    "\n",
    "    successful_count = successful_count.sort_values('offer_id')\n",
    "\n",
    "    offer_count = offer_count.sort_values('offer_id')\n",
    "\n",
    "    percent_success = pd.merge(offer_count, successful_count, on=\"offer_id\")\n",
    "\n",
    "    percent_success['percent_success'] = (\n",
    "        100 * percent_success['offer_successful'] / percent_success['count'])\n",
    "\n",
    "    percent_success = pd.merge(percent_success, portfolio, on=\"offer_id\")\n",
    "\n",
    "    percent_success = percent_success.drop(columns=['offer_successful'])\n",
    "\n",
    "    percent_success = percent_success.sort_values('percent_success', ascending=False)\n",
    "\n",
    "    return percent_success.reset_index(drop=True)"
   ]
  },
  {
   "cell_type": "code",
   "execution_count": 24,
   "id": "ce87f5cc",
   "metadata": {},
   "outputs": [
    {
     "data": {
      "text/html": [
       "<div>\n",
       "<style scoped>\n",
       "    .dataframe tbody tr th:only-of-type {\n",
       "        vertical-align: middle;\n",
       "    }\n",
       "\n",
       "    .dataframe tbody tr th {\n",
       "        vertical-align: top;\n",
       "    }\n",
       "\n",
       "    .dataframe thead th {\n",
       "        text-align: right;\n",
       "    }\n",
       "</style>\n",
       "<table border=\"1\" class=\"dataframe\">\n",
       "  <thead>\n",
       "    <tr style=\"text-align: right;\">\n",
       "      <th></th>\n",
       "      <th>offer_id</th>\n",
       "      <th>count</th>\n",
       "      <th>percent_success</th>\n",
       "      <th>reward</th>\n",
       "      <th>difficulty</th>\n",
       "      <th>duration</th>\n",
       "      <th>web</th>\n",
       "      <th>email</th>\n",
       "      <th>social</th>\n",
       "      <th>mobile</th>\n",
       "      <th>bogo</th>\n",
       "      <th>informational</th>\n",
       "      <th>discount</th>\n",
       "    </tr>\n",
       "  </thead>\n",
       "  <tbody>\n",
       "    <tr>\n",
       "      <th>0</th>\n",
       "      <td>fafdcd668e3743c1bb461111dcafc2a4</td>\n",
       "      <td>6652</td>\n",
       "      <td>75.285628</td>\n",
       "      <td>2</td>\n",
       "      <td>10</td>\n",
       "      <td>10</td>\n",
       "      <td>1.0</td>\n",
       "      <td>1.0</td>\n",
       "      <td>1.0</td>\n",
       "      <td>1.0</td>\n",
       "      <td>0.0</td>\n",
       "      <td>0.0</td>\n",
       "      <td>1.0</td>\n",
       "    </tr>\n",
       "    <tr>\n",
       "      <th>1</th>\n",
       "      <td>2298d6c36e964ae4a3e7e9706d1fb8c2</td>\n",
       "      <td>6655</td>\n",
       "      <td>72.742299</td>\n",
       "      <td>3</td>\n",
       "      <td>7</td>\n",
       "      <td>7</td>\n",
       "      <td>1.0</td>\n",
       "      <td>1.0</td>\n",
       "      <td>1.0</td>\n",
       "      <td>1.0</td>\n",
       "      <td>0.0</td>\n",
       "      <td>0.0</td>\n",
       "      <td>1.0</td>\n",
       "    </tr>\n",
       "    <tr>\n",
       "      <th>2</th>\n",
       "      <td>f19421c1d4aa40978ebb69ca19b0e20d</td>\n",
       "      <td>6576</td>\n",
       "      <td>61.618005</td>\n",
       "      <td>5</td>\n",
       "      <td>5</td>\n",
       "      <td>5</td>\n",
       "      <td>1.0</td>\n",
       "      <td>1.0</td>\n",
       "      <td>1.0</td>\n",
       "      <td>1.0</td>\n",
       "      <td>1.0</td>\n",
       "      <td>0.0</td>\n",
       "      <td>0.0</td>\n",
       "    </tr>\n",
       "    <tr>\n",
       "      <th>3</th>\n",
       "      <td>ae264e3637204a6fb9bb56bc8210ddfd</td>\n",
       "      <td>6683</td>\n",
       "      <td>54.646117</td>\n",
       "      <td>10</td>\n",
       "      <td>10</td>\n",
       "      <td>7</td>\n",
       "      <td>0.0</td>\n",
       "      <td>1.0</td>\n",
       "      <td>1.0</td>\n",
       "      <td>1.0</td>\n",
       "      <td>1.0</td>\n",
       "      <td>0.0</td>\n",
       "      <td>0.0</td>\n",
       "    </tr>\n",
       "    <tr>\n",
       "      <th>4</th>\n",
       "      <td>4d5c57ea9a6940dd891ad53e9dbe8da0</td>\n",
       "      <td>6593</td>\n",
       "      <td>51.721523</td>\n",
       "      <td>10</td>\n",
       "      <td>10</td>\n",
       "      <td>5</td>\n",
       "      <td>1.0</td>\n",
       "      <td>1.0</td>\n",
       "      <td>1.0</td>\n",
       "      <td>1.0</td>\n",
       "      <td>1.0</td>\n",
       "      <td>0.0</td>\n",
       "      <td>0.0</td>\n",
       "    </tr>\n",
       "    <tr>\n",
       "      <th>5</th>\n",
       "      <td>9b98b8c7a33c4b65b9aebfe6a799e6d9</td>\n",
       "      <td>6685</td>\n",
       "      <td>48.287210</td>\n",
       "      <td>5</td>\n",
       "      <td>5</td>\n",
       "      <td>7</td>\n",
       "      <td>1.0</td>\n",
       "      <td>1.0</td>\n",
       "      <td>0.0</td>\n",
       "      <td>1.0</td>\n",
       "      <td>1.0</td>\n",
       "      <td>0.0</td>\n",
       "      <td>0.0</td>\n",
       "    </tr>\n",
       "    <tr>\n",
       "      <th>6</th>\n",
       "      <td>2906b810c7d4411798c6938adc9daaa5</td>\n",
       "      <td>6631</td>\n",
       "      <td>47.730357</td>\n",
       "      <td>2</td>\n",
       "      <td>10</td>\n",
       "      <td>7</td>\n",
       "      <td>1.0</td>\n",
       "      <td>1.0</td>\n",
       "      <td>0.0</td>\n",
       "      <td>1.0</td>\n",
       "      <td>0.0</td>\n",
       "      <td>0.0</td>\n",
       "      <td>1.0</td>\n",
       "    </tr>\n",
       "    <tr>\n",
       "      <th>7</th>\n",
       "      <td>0b1e1539f2cc45b7b9fa7c272da2e1d7</td>\n",
       "      <td>6726</td>\n",
       "      <td>45.762712</td>\n",
       "      <td>5</td>\n",
       "      <td>20</td>\n",
       "      <td>10</td>\n",
       "      <td>1.0</td>\n",
       "      <td>1.0</td>\n",
       "      <td>0.0</td>\n",
       "      <td>0.0</td>\n",
       "      <td>0.0</td>\n",
       "      <td>0.0</td>\n",
       "      <td>1.0</td>\n",
       "    </tr>\n",
       "    <tr>\n",
       "      <th>8</th>\n",
       "      <td>3f207df678b143eea3cee63160fa8bed</td>\n",
       "      <td>6657</td>\n",
       "      <td>7.721196</td>\n",
       "      <td>0</td>\n",
       "      <td>0</td>\n",
       "      <td>4</td>\n",
       "      <td>1.0</td>\n",
       "      <td>1.0</td>\n",
       "      <td>0.0</td>\n",
       "      <td>1.0</td>\n",
       "      <td>0.0</td>\n",
       "      <td>1.0</td>\n",
       "      <td>0.0</td>\n",
       "    </tr>\n",
       "    <tr>\n",
       "      <th>9</th>\n",
       "      <td>5a8bc65990b245e5a138643cd4eb9837</td>\n",
       "      <td>6643</td>\n",
       "      <td>6.277284</td>\n",
       "      <td>0</td>\n",
       "      <td>0</td>\n",
       "      <td>3</td>\n",
       "      <td>0.0</td>\n",
       "      <td>1.0</td>\n",
       "      <td>1.0</td>\n",
       "      <td>1.0</td>\n",
       "      <td>0.0</td>\n",
       "      <td>1.0</td>\n",
       "      <td>0.0</td>\n",
       "    </tr>\n",
       "  </tbody>\n",
       "</table>\n",
       "</div>"
      ],
      "text/plain": [
       "                           offer_id  count  percent_success  reward  \\\n",
       "0  fafdcd668e3743c1bb461111dcafc2a4   6652        75.285628       2   \n",
       "1  2298d6c36e964ae4a3e7e9706d1fb8c2   6655        72.742299       3   \n",
       "2  f19421c1d4aa40978ebb69ca19b0e20d   6576        61.618005       5   \n",
       "3  ae264e3637204a6fb9bb56bc8210ddfd   6683        54.646117      10   \n",
       "4  4d5c57ea9a6940dd891ad53e9dbe8da0   6593        51.721523      10   \n",
       "5  9b98b8c7a33c4b65b9aebfe6a799e6d9   6685        48.287210       5   \n",
       "6  2906b810c7d4411798c6938adc9daaa5   6631        47.730357       2   \n",
       "7  0b1e1539f2cc45b7b9fa7c272da2e1d7   6726        45.762712       5   \n",
       "8  3f207df678b143eea3cee63160fa8bed   6657         7.721196       0   \n",
       "9  5a8bc65990b245e5a138643cd4eb9837   6643         6.277284       0   \n",
       "\n",
       "   difficulty  duration  web  email  social  mobile  bogo  informational  \\\n",
       "0          10        10  1.0    1.0     1.0     1.0   0.0            0.0   \n",
       "1           7         7  1.0    1.0     1.0     1.0   0.0            0.0   \n",
       "2           5         5  1.0    1.0     1.0     1.0   1.0            0.0   \n",
       "3          10         7  0.0    1.0     1.0     1.0   1.0            0.0   \n",
       "4          10         5  1.0    1.0     1.0     1.0   1.0            0.0   \n",
       "5           5         7  1.0    1.0     0.0     1.0   1.0            0.0   \n",
       "6          10         7  1.0    1.0     0.0     1.0   0.0            0.0   \n",
       "7          20        10  1.0    1.0     0.0     0.0   0.0            0.0   \n",
       "8           0         4  1.0    1.0     0.0     1.0   0.0            1.0   \n",
       "9           0         3  0.0    1.0     1.0     1.0   0.0            1.0   \n",
       "\n",
       "   discount  \n",
       "0       1.0  \n",
       "1       1.0  \n",
       "2       0.0  \n",
       "3       0.0  \n",
       "4       0.0  \n",
       "5       0.0  \n",
       "6       1.0  \n",
       "7       1.0  \n",
       "8       0.0  \n",
       "9       0.0  "
      ]
     },
     "execution_count": 24,
     "metadata": {},
     "output_type": "execute_result"
    }
   ],
   "source": [
    "percent_success = calculate_percentage_success()\n",
    "percent_success"
   ]
  },
  {
   "cell_type": "markdown",
   "id": "ae126d0d",
   "metadata": {},
   "source": [
    "- Here we try to find specific offer's success rate to use it in machine learning model to predict success rate of any offer to any customer."
   ]
  },
  {
   "cell_type": "code",
   "execution_count": 25,
   "id": "98d55a26",
   "metadata": {},
   "outputs": [
    {
     "data": {
      "image/png": "[encoded data removed]",
      "text/plain": [
       "<Figure size 432x288 with 1 Axes>"
      ]
     },
     "metadata": {
      "needs_background": "light"
     },
     "output_type": "display_data"
    }
   ],
   "source": [
    "sns.barplot(y = \"percent_success\", x = \"reward\", data = percent_success).set_title(\"Success rate of rewards\")\n",
    "plt.show()"
   ]
  },
  {
   "cell_type": "code",
   "execution_count": 26,
   "id": "08e0eb44",
   "metadata": {},
   "outputs": [
    {
     "data": {
      "image/png": "[encoded data removed]",
      "text/plain": [
       "<Figure size 432x288 with 1 Axes>"
      ]
     },
     "metadata": {
      "needs_background": "light"
     },
     "output_type": "display_data"
    }
   ],
   "source": [
    "sns.barplot(y = \"percent_success\", x = \"discount\", data = percent_success).set_title(\"Success rate of Discount\")\n",
    "plt.show()"
   ]
  },
  {
   "cell_type": "code",
   "execution_count": 27,
   "id": "aacec12f",
   "metadata": {},
   "outputs": [
    {
     "data": {
      "image/png": "[encoded data removed]",
      "text/plain": [
       "<Figure size 432x288 with 1 Axes>"
      ]
     },
     "metadata": {
      "needs_background": "light"
     },
     "output_type": "display_data"
    }
   ],
   "source": [
    "sns.barplot(y = \"percent_success\", x = \"bogo\", data = percent_success).set_title(\"Success rate of Buy one Get one\")\n",
    "plt.show()"
   ]
  },
  {
   "cell_type": "markdown",
   "id": "c824169d",
   "metadata": {},
   "source": [
    "## Various Machine Learning Classification Models"
   ]
  },
  {
   "cell_type": "code",
   "execution_count": 18,
   "id": "8107f08b",
   "metadata": {},
   "outputs": [],
   "source": [
    "from sklearn.metrics import confusion_matrix\n",
    "\n",
    "def c_matrix(y_test,y_pred):\n",
    "    matrix = confusion_matrix(y_test, y_pred)\n",
    "    sns.heatmap(matrix, annot = True, fmt = 'g',cmap='YlGn')\n",
    "    plt.title(\"Confussion Matrix\", fontsize = 20)"
   ]
  },
  {
   "cell_type": "code",
   "execution_count": 19,
   "id": "6e9293c5",
   "metadata": {},
   "outputs": [],
   "source": [
    "from sklearn.linear_model import LogisticRegression\n",
    "from sklearn.model_selection import train_test_split\n",
    "import seaborn as sns\n",
    "import sklearn\n",
    "# Splitting the dataset into the Training set and Test set\n",
    "X = moa.drop(columns=['offer_successful'])\n",
    "y = moa.filter(['offer_successful'])\n",
    "X_train, X_test, y_train, y_test = train_test_split(X.values, y.values, test_size = 0.2, random_state = 0)\n",
    "\n",
    "offer_id_train = X_train[:, 0]\n",
    "total_amount_train = X_train[:, 1]\n",
    "X_train = X_train[:, 2:].astype('float64')\n",
    "\n",
    "offer_id_test = X_test[:, 0]\n",
    "total_amount_test = X_test[:, 1]\n",
    "X_test = X_test[:, 2:].astype('float64')\n",
    "y_train = y_train.ravel()\n",
    "y_test = y_test.ravel()"
   ]
  },
  {
   "cell_type": "markdown",
   "id": "ccc707ab",
   "metadata": {},
   "source": [
    "### Naive_bayes"
   ]
  },
  {
   "cell_type": "code",
   "execution_count": 20,
   "id": "3386f9c6",
   "metadata": {},
   "outputs": [
    {
     "name": "stdout",
     "output_type": "stream",
     "text": [
      "None\n",
      "0.6785955943162169\n",
      "0.7157012702001729\n",
      "0.8537204505790893\n",
      "0.6160980077856653\n"
     ]
    },
    {
     "data": {
      "image/png": "[encoded data removed]",
      "text/plain": [
       "<Figure size 432x288 with 2 Axes>"
      ]
     },
     "metadata": {
      "needs_background": "light"
     },
     "output_type": "display_data"
    }
   ],
   "source": [
    "# Fitting classifier to the Training set\n",
    "from sklearn.naive_bayes import GaussianNB  \n",
    "classifier = GaussianNB()  \n",
    "classifier.fit(X_train, y_train)  \n",
    "\n",
    "# Predicting the Test set results \n",
    "y_pred = classifier.predict(X_test)\n",
    "\n",
    "# Make the Confusion Matrix\n",
    "from sklearn.metrics import confusion_matrix,accuracy_score,classification_report\n",
    "cm=c_matrix(y_test, y_pred)\n",
    "print(cm)\n",
    "\n",
    "# Evaluate the results\n",
    "print(accuracy_score(y_test, y_pred))\n",
    "print(sklearn.metrics.f1_score(y_test, y_pred, pos_label=1))\n",
    "print(sklearn.metrics.recall_score(y_test, y_pred,pos_label=1))\n",
    "print(sklearn.metrics.precision_score(y_test, y_pred,pos_label=1))"
   ]
  },
  {
   "cell_type": "markdown",
   "id": "f6221e42",
   "metadata": {},
   "source": [
    "### Decision Tree Classification Model"
   ]
  },
  {
   "cell_type": "code",
   "execution_count": 21,
   "id": "3b4cb913",
   "metadata": {},
   "outputs": [
    {
     "name": "stdout",
     "output_type": "stream",
     "text": [
      "None\n",
      "0.6982933614013984\n",
      "0.6796007984031937\n",
      "0.6752340155481517\n",
      "0.6840244294439087\n"
     ]
    },
    {
     "data": {
      "image/png": "[encoded data removed]",
      "text/plain": [
       "<Figure size 432x288 with 2 Axes>"
      ]
     },
     "metadata": {
      "needs_background": "light"
     },
     "output_type": "display_data"
    }
   ],
   "source": [
    "from sklearn.tree import DecisionTreeClassifier # Import Decision Tree Classifier\n",
    "classifier = DecisionTreeClassifier()\n",
    "classifier.fit(X_train, y_train)  \n",
    "\n",
    "# Predicting the Test set results \n",
    "y_pred = classifier.predict(X_test)\n",
    "\n",
    "cm = c_matrix(y_test, y_pred)\n",
    "print(cm)\n",
    "\n",
    "# Evaluate the results\n",
    "print(accuracy_score(y_test, y_pred))\n",
    "print(sklearn.metrics.f1_score(y_test, y_pred, pos_label=1))\n",
    "print(sklearn.metrics.recall_score(y_test, y_pred,pos_label=1))\n",
    "print(sklearn.metrics.precision_score(y_test, y_pred,pos_label=1))"
   ]
  },
  {
   "cell_type": "markdown",
   "id": "29ab5ec7",
   "metadata": {},
   "source": [
    "### Random Forest Model"
   ]
  },
  {
   "cell_type": "code",
   "execution_count": 22,
   "id": "a0d9ad6f",
   "metadata": {},
   "outputs": [
    {
     "name": "stdout",
     "output_type": "stream",
     "text": [
      "None\n",
      "0.7211487858055785\n",
      "0.7081136381521995\n",
      "0.7137870855148342\n",
      "0.7025296689569019\n"
     ]
    },
    {
     "data": {
      "image/png": "[encoded data removed]",
      "text/plain": [
       "<Figure size 432x288 with 2 Axes>"
      ]
     },
     "metadata": {
      "needs_background": "light"
     },
     "output_type": "display_data"
    }
   ],
   "source": [
    "from sklearn.ensemble import RandomForestClassifier\n",
    "classifier = RandomForestClassifier(n_estimators=100)\n",
    "classifier.fit(X_train, y_train)  \n",
    "\n",
    "# Predicting the Test set results \n",
    "y_pred = classifier.predict(X_test)\n",
    "\n",
    "cm = c_matrix(y_test, y_pred)\n",
    "print(cm)\n",
    "\n",
    "# Evaluate the results\n",
    "print(accuracy_score(y_test, y_pred))\n",
    "print(sklearn.metrics.f1_score(y_test, y_pred, pos_label=1))\n",
    "print(sklearn.metrics.recall_score(y_test, y_pred,pos_label=1))\n",
    "print(sklearn.metrics.precision_score(y_test, y_pred,pos_label=1))"
   ]
  },
  {
   "cell_type": "markdown",
   "id": "b102874e",
   "metadata": {},
   "source": [
    "### KNN Model"
   ]
  },
  {
   "cell_type": "code",
   "execution_count": 24,
   "id": "b436e48e",
   "metadata": {},
   "outputs": [
    {
     "name": "stdout",
     "output_type": "stream",
     "text": [
      "None\n",
      "0.646417562589279\n",
      "0.5412154911715931\n",
      "0.4401078851340631\n",
      "0.7026342451874367\n"
     ]
    },
    {
     "data": {
      "image/png": "[encoded data removed]",
      "text/plain": [
       "<Figure size 432x288 with 2 Axes>"
      ]
     },
     "metadata": {
      "needs_background": "light"
     },
     "output_type": "display_data"
    }
   ],
   "source": [
    "from sklearn.neighbors import KNeighborsClassifier\n",
    "classifier = KNeighborsClassifier(n_neighbors=2)\n",
    "classifier.fit(X_train, y_train)  \n",
    "\n",
    "# Predicting the Test set results \n",
    "y_pred = classifier.predict(X_test)\n",
    "\n",
    "cm = c_matrix(y_test, y_pred)\n",
    "print(cm)\n",
    "\n",
    "# Evaluate the results\n",
    "print(accuracy_score(y_test, y_pred))\n",
    "print(sklearn.metrics.f1_score(y_test, y_pred, pos_label=1))\n",
    "print(sklearn.metrics.recall_score(y_test, y_pred,pos_label=1))\n",
    "print(sklearn.metrics.precision_score(y_test, y_pred,pos_label=1))"
   ]
  },
  {
   "cell_type": "markdown",
   "id": "f8362fad",
   "metadata": {},
   "source": [
    "| Model Name | Accuracy score | F1-score |\n",
    "| :- | :- | :- | \n",
    "|  Naive Bayes Model        | 67% | 71% |\n",
    "|  Decision Tree            | 69% | 68% | \n",
    "|  Random Forest            | 72% | 70% | \n",
    "|  KNN                      | 64% | 54% | "
   ]
  },
  {
   "cell_type": "markdown",
   "id": "41189f1c",
   "metadata": {},
   "source": [
    "| Model Name | recall_score | precision_score |\n",
    "| :- | :- | :- | \n",
    "|  Naive Bayes Model        | 85% | 61% |\n",
    "|  Decision Tree            | 67% | 78% | \n",
    "|  Random Forest            | 75% | 70% | \n",
    "|  KNN                      | 44% | 70% | "
   ]
  },
  {
   "cell_type": "markdown",
   "id": "1c3a2f66",
   "metadata": {},
   "source": [
    "- Here I tried to do sentimental analysis on customer will respond to an offer in coffee shop or not. \n",
    "- In this project I tried to find the accuracy, F1-score, recall score and precision score by various machine learning models.\n",
    "- I used Naive Bayes, Decision tree, Random Forest, KNN models to find out the best prediction.\n",
    "- After getting all values I compared them all and try to find out which model is working as best model.\n",
    "- Accuracy score of random forest model has best accuracy score. Accuracy score of random forest  is 72%, F1 score 70%, recall score 75% and precision score is 70%. From this we can observe that this  model has good performance and also it is not overfit.  "
   ]
  },
  {
   "cell_type": "markdown",
   "id": "0447a501",
   "metadata": {},
   "source": [
    "## Observation and Recommendation:"
   ]
  },
  {
   "cell_type": "markdown",
   "id": "e43be8eb",
   "metadata": {},
   "source": [
    "- From above, we can observe that the success rate of offers is not more. The reason can be different like people are not well informed that they are getting offers on purchase of coffee or how to get that offer's benefit. \n",
    "- So, the marketing team should focus on an easy way to let people know about the offers and how they can get benefitted from purchasing coffee.\n",
    "- They can also work on an easy way of claiming the offer so more people can easily get benefits and trust between the coffee shop and customer will get increase.\n",
    "- We can also observe that the success rate of rewards is more. So, the marketing team can make the time period of claiming the reward short. So, people use it as soon as they get it and for more such rewards they will come again in a short time period.\n",
    "- Buy one get one free offer are getting less success rate. The reason may be people are coming without any partner so they don't want that offer. So, the Marketing team can give some time period like one day to claim the offer. They can also give options like claiming any other compliment with coffee.\n",
    "- By implementing these new and easy ways, the coffee shop will also benefit to attract new customers.\n",
    "- By using a machine learning model marketing team can predict that how much offer will get success on new customers so they can give offers to them. "
   ]
  },
  {
   "cell_type": "code",
   "execution_count": null,
   "id": "a8c994e3",
   "metadata": {},
   "outputs": [],
   "source": []
  }
 ],
 "metadata": {
  "kernelspec": {
   "display_name": "Python 3 (ipykernel)",
   "language": "python",
   "name": "python3"
  },
  "language_info": {
   "codemirror_mode": {
    "name": "ipython",
    "version": 3
   },
   "file_extension": ".py",
   "mimetype": "text/x-python",
   "name": "python",
   "nbconvert_exporter": "python",
   "pygments_lexer": "ipython3",
   "version": "3.8.12"
  }
 },
 "nbformat": 4,
 "nbformat_minor": 5
}
